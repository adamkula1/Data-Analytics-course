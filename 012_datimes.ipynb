{
 "cells": [
  {
   "cell_type": "markdown",
   "metadata": {},
   "source": [
    "# Práca s časom a dátumom\n",
    "Na reprezentovanie času a dátumu v Pandas používame nasledujúce typy: \n",
    "- Date times(Timestamp) - dtype ***datetime64[ns]***\n",
    "- Time deltas (Timedelta) - dtype ***timedelta64[ns]***\n",
    "- Time spans (Period) - dtype ***period[freq]***\n",
    "- Date offsets - toto je specialny typ"
   ]
  },
  {
   "cell_type": "code",
   "execution_count": 2,
   "metadata": {},
   "outputs": [],
   "source": [
    "import pandas as pd \n",
    "import numpy as np\n",
    "import matplotlib.pyplot as plt"
   ]
  },
  {
   "cell_type": "markdown",
   "metadata": {},
   "source": [
    "# Datetime\n",
    "sa pouziva na reprezentaciu datumu a casu v pythone. V pandase sa oznacuje pojmom timestamp ale python vie pracovat aj s objektami typu datetime. \n",
    "\n",
    "## Prečo? \n",
    "Python datetime objekt nepodporuje nanosekundy na rozdiel od pandas timestamp"
   ]
  },
  {
   "cell_type": "code",
   "execution_count": 93,
   "metadata": {},
   "outputs": [
    {
     "name": "stdout",
     "output_type": "stream",
     "text": [
      "<class 'datetime.datetime'>\n"
     ]
    },
    {
     "data": {
      "text/plain": [
       "datetime.datetime(2021, 1, 9, 12, 51, 42, 392396)"
      ]
     },
     "execution_count": 93,
     "metadata": {},
     "output_type": "execute_result"
    }
   ],
   "source": [
    "from datetime import datetime as dt\n",
    "\n",
    "now = dt.now()\n",
    "print(type(now))\n",
    "# print(now.nanosecods) # <-- takato funkcia neexistuje, datetime podporuje len mikrosekundy\n",
    "now"
   ]
  },
  {
   "cell_type": "code",
   "execution_count": 94,
   "metadata": {},
   "outputs": [
    {
     "name": "stdout",
     "output_type": "stream",
     "text": [
      "<class 'pandas._libs.tslibs.timestamps.Timestamp'>\n",
      "0\n"
     ]
    },
    {
     "data": {
      "text/plain": [
       "Timestamp('2021-01-09 12:51:42.392396')"
      ]
     },
     "execution_count": 94,
     "metadata": {},
     "output_type": "execute_result"
    }
   ],
   "source": [
    "# konverzia datetime to tyimestamp\n",
    "now_timestamp = pd.Timestamp(now)\n",
    "print(type(now_timestamp)) # lebo povodny datetime nemal ziadne\n",
    "# print(now_timestamp.nanosecond) \n",
    "now_timestamp"
   ]
  },
  {
   "cell_type": "markdown",
   "metadata": {},
   "source": [
    "Čas a dátum sa veľmi často používajú v ***indexe*** dataframu "
   ]
  },
  {
   "cell_type": "markdown",
   "metadata": {},
   "source": [
    "# Timestamp\n",
    "Pandasov timestamp je zalozeny na efektivnejsom datovom type numpy.datetime64. V pandase preto pracujeme s typom timestamp nie datetime !!!\n",
    "\n",
    "V pandase timestamp oznacuje jeden bod v case s nanosekundovou presnostou."
   ]
  },
  {
   "cell_type": "code",
   "execution_count": 17,
   "metadata": {},
   "outputs": [
    {
     "name": "stdout",
     "output_type": "stream",
     "text": [
      "2020-06-09 08:30:20.000079099\n",
      "<class 'pandas._libs.tslibs.timestamps.Timestamp'>\n"
     ]
    },
    {
     "data": {
      "text/plain": [
       "99"
      ]
     },
     "execution_count": 17,
     "metadata": {},
     "output_type": "execute_result"
    }
   ],
   "source": [
    "timestamp = pd.Timestamp(year=2020, month=6, day=9, hour=8, minute=30, second=20, microsecond=79, nanosecond=99)\n",
    "print(timestamp)\n",
    "print(type(timestamp))\n",
    "timestamp.nanosecond"
   ]
  },
  {
   "cell_type": "code",
   "execution_count": 16,
   "metadata": {},
   "outputs": [
    {
     "name": "stdout",
     "output_type": "stream",
     "text": [
      "2019-08-01 00:00:00\n",
      "2020-06-09 12:00:00\n",
      "2020-06-09 00:00:00\n",
      "2020-08-09 13:45:00\n",
      "2020-01-01 14:00:00\n",
      "1970-01-01 00:00:00.000000300\n",
      "1970-01-01 00:00:01.513393355\n"
     ]
    }
   ],
   "source": [
    "# mikro a nanosekundy sa aplikuju pri vypise len ak existuju\n",
    "print(pd.Timestamp('2019-8-1'))\n",
    "print(pd.Timestamp(2020, 6, 9, 12))\n",
    "print(pd.Timestamp('2020-06-09 00:00:00'))\n",
    "print(pd.Timestamp('August 9, 2020 13:45'))\n",
    "print(pd.Timestamp('2020-01-01T14'))\n",
    "print(pd.Timestamp(300)) # <--- number of seconds after UNIX epoch (January 1, 1970)\n",
    "print(pd.Timestamp(1513393355.5))"
   ]
  },
  {
   "cell_type": "code",
   "execution_count": 33,
   "metadata": {},
   "outputs": [
    {
     "name": "stdout",
     "output_type": "stream",
     "text": [
      "<class 'pandas._libs.tslibs.nattype.NaTType'>\n"
     ]
    },
    {
     "data": {
      "text/plain": [
       "NaT"
      ]
     },
     "execution_count": 33,
     "metadata": {},
     "output_type": "execute_result"
    }
   ],
   "source": [
    "# Nan hodnota ma svoj specialny objekt \n",
    "nan_dt = pd.Timestamp(np.nan)\n",
    "print(type(nan_dt))\n",
    "nan_dt"
   ]
  },
  {
   "cell_type": "code",
   "execution_count": 44,
   "metadata": {},
   "outputs": [
    {
     "data": {
      "text/plain": [
       "DatetimeIndex(['2020-01-09', '2020-01-10', '2020-01-11'], dtype='datetime64[ns]', freq='D')"
      ]
     },
     "execution_count": 44,
     "metadata": {},
     "output_type": "execute_result"
    }
   ],
   "source": [
    "# Pandas timestamp series\n",
    "sample_timestamps = pd.date_range(\"2020-01-09\", freq=\"D\", periods=3) # pomocou funkcie daterange viem vytvorit takzvany  DatetimeIndex\n",
    "sample_timestamps"
   ]
  },
  {
   "cell_type": "code",
   "execution_count": 49,
   "metadata": {},
   "outputs": [
    {
     "data": {
      "text/html": [
       "<div>\n",
       "<style scoped>\n",
       "    .dataframe tbody tr th:only-of-type {\n",
       "        vertical-align: middle;\n",
       "    }\n",
       "\n",
       "    .dataframe tbody tr th {\n",
       "        vertical-align: top;\n",
       "    }\n",
       "\n",
       "    .dataframe thead th {\n",
       "        text-align: right;\n",
       "    }\n",
       "</style>\n",
       "<table border=\"1\" class=\"dataframe\">\n",
       "  <thead>\n",
       "    <tr style=\"text-align: right;\">\n",
       "      <th></th>\n",
       "      <th>times</th>\n",
       "    </tr>\n",
       "  </thead>\n",
       "  <tbody>\n",
       "    <tr>\n",
       "      <th>0</th>\n",
       "      <td>2020-01-09</td>\n",
       "    </tr>\n",
       "    <tr>\n",
       "      <th>1</th>\n",
       "      <td>2020-01-10</td>\n",
       "    </tr>\n",
       "    <tr>\n",
       "      <th>2</th>\n",
       "      <td>2020-01-11</td>\n",
       "    </tr>\n",
       "  </tbody>\n",
       "</table>\n",
       "</div>"
      ],
      "text/plain": [
       "       times\n",
       "0 2020-01-09\n",
       "1 2020-01-10\n",
       "2 2020-01-11"
      ]
     },
     "execution_count": 49,
     "metadata": {},
     "output_type": "execute_result"
    }
   ],
   "source": [
    "df = pd.DataFrame(sample_timestamps, columns=[\"times\"])\n",
    "df"
   ]
  },
  {
   "cell_type": "code",
   "execution_count": 51,
   "metadata": {},
   "outputs": [
    {
     "data": {
      "text/plain": [
       "times    datetime64[ns]\n",
       "dtype: object"
      ]
     },
     "execution_count": 51,
     "metadata": {},
     "output_type": "execute_result"
    }
   ],
   "source": [
    "# Cize tu mozeme vidiet ze datovy typ je numpy datetime[64]\n",
    "df.dtypes"
   ]
  },
  {
   "cell_type": "markdown",
   "metadata": {},
   "source": [
    "# Časové pásma \n",
    "Timestamp vie pracovať aj s časovými pásmami. Defaultne spravanie je neznale o casovych pasmach ale v konstruktore vieme poslat hodnotu casoveho pasma z kniznice pytz"
   ]
  },
  {
   "cell_type": "code",
   "execution_count": 36,
   "metadata": {},
   "outputs": [
    {
     "data": {
      "text/plain": [
       "593"
      ]
     },
     "execution_count": 36,
     "metadata": {},
     "output_type": "execute_result"
    }
   ],
   "source": [
    "import pytz\n",
    "len(pytz.all_timezones) # pozet vsetkych moznosti pre casove pasma "
   ]
  },
  {
   "cell_type": "code",
   "execution_count": 38,
   "metadata": {},
   "outputs": [
    {
     "data": {
      "text/plain": [
       "['Africa/Abidjan',\n",
       " 'Africa/Accra',\n",
       " 'Africa/Addis_Ababa',\n",
       " 'Africa/Algiers',\n",
       " 'Africa/Asmara',\n",
       " 'Africa/Asmera',\n",
       " 'Africa/Bamako',\n",
       " 'Africa/Bangui',\n",
       " 'Africa/Banjul',\n",
       " 'Africa/Bissau']"
      ]
     },
     "execution_count": 38,
     "metadata": {},
     "output_type": "execute_result"
    }
   ],
   "source": [
    "# Ukazka casoveho pasma\n",
    "pytz.all_timezones[:10]"
   ]
  },
  {
   "cell_type": "code",
   "execution_count": 42,
   "metadata": {},
   "outputs": [
    {
     "data": {
      "text/plain": [
       "Timestamp('1970-01-01 01:00:01.513393355+0100', tz='Europe/Bratislava')"
      ]
     },
     "execution_count": 42,
     "metadata": {},
     "output_type": "execute_result"
    }
   ],
   "source": [
    "ts = pd.Timestamp(1513393355, tz=\"Europe/Bratislava\")\n",
    "ts"
   ]
  },
  {
   "cell_type": "code",
   "execution_count": 52,
   "metadata": {},
   "outputs": [
    {
     "data": {
      "text/plain": [
       "DatetimeIndex(['2020-01-09 00:00:00-01:00', '2020-01-10 00:00:00-01:00',\n",
       "               '2020-01-11 00:00:00-01:00'],\n",
       "              dtype='datetime64[ns, Etc/GMT+1]', freq='D')"
      ]
     },
     "execution_count": 52,
     "metadata": {},
     "output_type": "execute_result"
    }
   ],
   "source": [
    "# pouzitie s dataframmom \n",
    "sample_timestamps = pd.date_range(\"2020-01-09\", freq=\"D\", periods=3, tz=\"Etc/GMT+1\") # pomocou funkcie daterange viem vytvorit takzvany  DatetimeIndex\n",
    "sample_timestamps"
   ]
  },
  {
   "cell_type": "code",
   "execution_count": 53,
   "metadata": {},
   "outputs": [
    {
     "data": {
      "text/html": [
       "<div>\n",
       "<style scoped>\n",
       "    .dataframe tbody tr th:only-of-type {\n",
       "        vertical-align: middle;\n",
       "    }\n",
       "\n",
       "    .dataframe tbody tr th {\n",
       "        vertical-align: top;\n",
       "    }\n",
       "\n",
       "    .dataframe thead th {\n",
       "        text-align: right;\n",
       "    }\n",
       "</style>\n",
       "<table border=\"1\" class=\"dataframe\">\n",
       "  <thead>\n",
       "    <tr style=\"text-align: right;\">\n",
       "      <th></th>\n",
       "      <th>times</th>\n",
       "    </tr>\n",
       "  </thead>\n",
       "  <tbody>\n",
       "    <tr>\n",
       "      <th>0</th>\n",
       "      <td>2020-01-09 00:00:00-01:00</td>\n",
       "    </tr>\n",
       "    <tr>\n",
       "      <th>1</th>\n",
       "      <td>2020-01-10 00:00:00-01:00</td>\n",
       "    </tr>\n",
       "    <tr>\n",
       "      <th>2</th>\n",
       "      <td>2020-01-11 00:00:00-01:00</td>\n",
       "    </tr>\n",
       "  </tbody>\n",
       "</table>\n",
       "</div>"
      ],
      "text/plain": [
       "                      times\n",
       "0 2020-01-09 00:00:00-01:00\n",
       "1 2020-01-10 00:00:00-01:00\n",
       "2 2020-01-11 00:00:00-01:00"
      ]
     },
     "execution_count": 53,
     "metadata": {},
     "output_type": "execute_result"
    }
   ],
   "source": [
    "df = pd.DataFrame(sample_timestamps, columns=[\"times\"])\n",
    "df"
   ]
  },
  {
   "cell_type": "code",
   "execution_count": 54,
   "metadata": {},
   "outputs": [
    {
     "data": {
      "text/plain": [
       "0   2020-01-09 00:00:00-01:00\n",
       "1   2020-01-10 00:00:00-01:00\n",
       "2   2020-01-11 00:00:00-01:00\n",
       "Name: times, dtype: datetime64[ns, Etc/GMT+1]"
      ]
     },
     "execution_count": 54,
     "metadata": {},
     "output_type": "execute_result"
    }
   ],
   "source": [
    "df.times # pandas si pamata aj casovu zonu"
   ]
  },
  {
   "cell_type": "code",
   "execution_count": 96,
   "metadata": {},
   "outputs": [
    {
     "data": {
      "text/plain": [
       "0        2018-11-13 09:39:52.794\n",
       "1        2018-11-13 09:39:52.813\n",
       "2        2018-11-13 09:39:52.840\n",
       "3        2018-11-13 09:39:54.800\n",
       "4        2018-11-13 09:39:54.867\n",
       "                  ...           \n",
       "10416    2018-11-13 10:00:36.872\n",
       "10417    2018-11-13 10:00:36.956\n",
       "10418    2018-11-13 10:00:36.989\n",
       "10419    2018-11-13 10:00:37.037\n",
       "10420    2018-11-13 10:00:37.054\n",
       "Name: timestamp, Length: 10421, dtype: object"
      ]
     },
     "execution_count": 96,
     "metadata": {},
     "output_type": "execute_result"
    }
   ],
   "source": [
    "# Realny priklad datasetu \n",
    "df = pd.read_csv(\"dataset/timestamps_dataset.csv\")\n",
    "df.head()\n",
    "df.timestamp"
   ]
  },
  {
   "cell_type": "code",
   "execution_count": 100,
   "metadata": {},
   "outputs": [
    {
     "data": {
      "text/plain": [
       "0       2018-11-13 09:39:52.794\n",
       "1       2018-11-13 09:39:52.813\n",
       "2       2018-11-13 09:39:52.840\n",
       "3       2018-11-13 09:39:54.800\n",
       "4       2018-11-13 09:39:54.867\n",
       "                  ...          \n",
       "10416   2018-11-13 10:00:36.872\n",
       "10417   2018-11-13 10:00:36.956\n",
       "10418   2018-11-13 10:00:36.989\n",
       "10419   2018-11-13 10:00:37.037\n",
       "10420   2018-11-13 10:00:37.054\n",
       "Name: timestamp, Length: 10421, dtype: datetime64[ns]"
      ]
     },
     "execution_count": 100,
     "metadata": {},
     "output_type": "execute_result"
    }
   ],
   "source": [
    "df = pd.read_csv(\"dataset/timestamps_dataset.csv\", parse_dates=[\"timestamp\"])\n",
    "df.timestamp"
   ]
  },
  {
   "cell_type": "code",
   "execution_count": 105,
   "metadata": {},
   "outputs": [
    {
     "data": {
      "text/plain": [
       "0       2018-11-13 09:39:52.794\n",
       "1       2018-11-13 09:39:52.813\n",
       "2       2018-11-13 09:39:52.840\n",
       "3       2018-11-13 09:39:54.800\n",
       "4       2018-11-13 09:39:54.867\n",
       "                  ...          \n",
       "10416   2018-11-13 10:00:36.872\n",
       "10417   2018-11-13 10:00:36.956\n",
       "10418   2018-11-13 10:00:36.989\n",
       "10419   2018-11-13 10:00:37.037\n",
       "10420   2018-11-13 10:00:37.054\n",
       "Name: timestamp, Length: 10421, dtype: datetime64[ns]"
      ]
     },
     "execution_count": 105,
     "metadata": {},
     "output_type": "execute_result"
    }
   ],
   "source": [
    "df.timestamp"
   ]
  },
  {
   "cell_type": "markdown",
   "metadata": {},
   "source": [
    "# Time Delta\n",
    "Čo keď chcem timestampy odpočítavať? \n",
    "\n",
    "Timedelta ako dátový typ sa nachádza aj v pythone nie len v pandase !!!"
   ]
  },
  {
   "cell_type": "code",
   "execution_count": 106,
   "metadata": {},
   "outputs": [
    {
     "data": {
      "text/plain": [
       "Timedelta('0 days 00:00:00.000000010')"
      ]
     },
     "execution_count": 106,
     "metadata": {},
     "output_type": "execute_result"
    }
   ],
   "source": [
    "x = pd.Timestamp(year=2020, month=6, day=9, hour=8, minute=30, second=20, microsecond=79, nanosecond=99)\n",
    "y = pd.Timestamp(year=2020, month=6, day=9, hour=8, minute=30, second=20, microsecond=79, nanosecond=89)\n",
    "result=x-y\n",
    "result"
   ]
  },
  {
   "cell_type": "code",
   "execution_count": 69,
   "metadata": {},
   "outputs": [
    {
     "data": {
      "text/plain": [
       "Timedelta('-31 days +00:00:00')"
      ]
     },
     "execution_count": 69,
     "metadata": {},
     "output_type": "execute_result"
    }
   ],
   "source": [
    "# Záporná \n",
    "y-x"
   ]
  },
  {
   "cell_type": "code",
   "execution_count": 108,
   "metadata": {},
   "outputs": [
    {
     "name": "stdout",
     "output_type": "stream",
     "text": [
      "1 days 00:42:00.898340\n",
      "55 days, 1:00:21.992006\n"
     ]
    },
    {
     "data": {
      "text/plain": [
       "Timedelta('56 days 01:42:22.890346')"
      ]
     },
     "execution_count": 108,
     "metadata": {},
     "output_type": "execute_result"
    }
   ],
   "source": [
    "# Konštruktor v pandase \n",
    "td1 = pd.Timedelta(\"1 days 00:42:00.89834\") # len pomocou stringu \n",
    "print(td1)\n",
    "\n",
    "# Konstruktor v pythone \n",
    "from datetime import timedelta\n",
    "\n",
    "td2 = timedelta(days=55, seconds=3621, microseconds=992006)\n",
    "print(td2)\n",
    "\n",
    "td1 + td2"
   ]
  },
  {
   "cell_type": "code",
   "execution_count": 109,
   "metadata": {},
   "outputs": [
    {
     "data": {
      "text/plain": [
       "Timestamp('2021-01-09 13:09:24.721773')"
      ]
     },
     "execution_count": 109,
     "metadata": {},
     "output_type": "execute_result"
    }
   ],
   "source": [
    "from datetime import datetime as dt\n",
    "\n",
    "# vieme ich hladne pripocitavat/odpocitavat  k timestampu \n",
    "ts = pd.Timestamp(dt.now())\n",
    "ts"
   ]
  },
  {
   "cell_type": "code",
   "execution_count": 110,
   "metadata": {},
   "outputs": [
    {
     "data": {
      "text/plain": [
       "Timestamp('2021-03-05 14:09:46.713779')"
      ]
     },
     "execution_count": 110,
     "metadata": {},
     "output_type": "execute_result"
    }
   ],
   "source": [
    "ts + td2"
   ]
  },
  {
   "cell_type": "code",
   "execution_count": 83,
   "metadata": {},
   "outputs": [
    {
     "data": {
      "text/plain": [
       "0       2019-01-07 10:40:14.786006\n",
       "1       2019-01-07 10:40:14.805006\n",
       "2       2019-01-07 10:40:14.832006\n",
       "3       2019-01-07 10:40:16.792006\n",
       "4       2019-01-07 10:40:16.859006\n",
       "                   ...            \n",
       "10416   2019-01-07 11:00:58.864006\n",
       "10417   2019-01-07 11:00:58.948006\n",
       "10418   2019-01-07 11:00:58.981006\n",
       "10419   2019-01-07 11:00:59.029006\n",
       "10420   2019-01-07 11:00:59.046006\n",
       "Name: timestamp, Length: 10421, dtype: datetime64[ns]"
      ]
     },
     "execution_count": 83,
     "metadata": {},
     "output_type": "execute_result"
    }
   ],
   "source": [
    "df.timestamp + td2"
   ]
  },
  {
   "cell_type": "code",
   "execution_count": null,
   "metadata": {},
   "outputs": [],
   "source": []
  }
 ],
 "metadata": {
  "kernelspec": {
   "display_name": "analytics",
   "language": "python",
   "name": "analytics"
  },
  "language_info": {
   "codemirror_mode": {
    "name": "ipython",
    "version": 3
   },
   "file_extension": ".py",
   "mimetype": "text/x-python",
   "name": "python",
   "nbconvert_exporter": "python",
   "pygments_lexer": "ipython3",
   "version": "3.8.6"
  }
 },
 "nbformat": 4,
 "nbformat_minor": 4
}
